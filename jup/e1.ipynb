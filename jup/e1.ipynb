{
 "cells": [
  {
   "cell_type": "code",
   "execution_count": 1,
   "id": "d4651410",
   "metadata": {},
   "outputs": [],
   "source": [
    "import numpy as np"
   ]
  },
  {
   "cell_type": "code",
   "execution_count": 2,
   "id": "3a5a3e77",
   "metadata": {},
   "outputs": [],
   "source": [
    "v_hor_np = np.array([1, 2])"
   ]
  },
  {
   "cell_type": "code",
   "execution_count": 3,
   "id": "d9b45306",
   "metadata": {},
   "outputs": [
    {
     "data": {
      "text/plain": [
       "array([1, 2])"
      ]
     },
     "execution_count": 3,
     "metadata": {},
     "output_type": "execute_result"
    }
   ],
   "source": [
    "v_hor_np"
   ]
  },
  {
   "cell_type": "code",
   "execution_count": 4,
   "id": "517096a9",
   "metadata": {},
   "outputs": [],
   "source": [
    "v_hor_zeros_v1 = np.zeros((5, ))"
   ]
  },
  {
   "cell_type": "code",
   "execution_count": 5,
   "id": "fe965e2e",
   "metadata": {},
   "outputs": [
    {
     "data": {
      "text/plain": [
       "array([0., 0., 0., 0., 0.])"
      ]
     },
     "execution_count": 5,
     "metadata": {},
     "output_type": "execute_result"
    }
   ],
   "source": [
    "v_hor_zeros_v1"
   ]
  },
  {
   "cell_type": "code",
   "execution_count": 6,
   "id": "d0626dbc",
   "metadata": {},
   "outputs": [],
   "source": [
    "v_hor_zeros_v2 = np.zeros((1, 5))"
   ]
  },
  {
   "cell_type": "code",
   "execution_count": 8,
   "id": "941f1e53",
   "metadata": {},
   "outputs": [
    {
     "data": {
      "text/plain": [
       "array([[0., 0., 0., 0., 0.]])"
      ]
     },
     "execution_count": 8,
     "metadata": {},
     "output_type": "execute_result"
    }
   ],
   "source": [
    "v_hor_zeros_v2"
   ]
  },
  {
   "cell_type": "code",
   "execution_count": 9,
   "id": "9c5a3395",
   "metadata": {},
   "outputs": [],
   "source": [
    "v_hor_one_v1 = np.ones((5,))"
   ]
  },
  {
   "cell_type": "code",
   "execution_count": 10,
   "id": "d67219d3",
   "metadata": {},
   "outputs": [
    {
     "data": {
      "text/plain": [
       "array([1., 1., 1., 1., 1.])"
      ]
     },
     "execution_count": 10,
     "metadata": {},
     "output_type": "execute_result"
    }
   ],
   "source": [
    "v_hor_one_v1"
   ]
  },
  {
   "cell_type": "code",
   "execution_count": 12,
   "id": "fbe266af",
   "metadata": {},
   "outputs": [],
   "source": [
    "v_hor_one_v2 = np.ones((1, 5))"
   ]
  },
  {
   "cell_type": "code",
   "execution_count": 13,
   "id": "26a95985",
   "metadata": {},
   "outputs": [
    {
     "data": {
      "text/plain": [
       "array([[1., 1., 1., 1., 1.]])"
      ]
     },
     "execution_count": 13,
     "metadata": {},
     "output_type": "execute_result"
    }
   ],
   "source": [
    "v_hor_one_v2"
   ]
  },
  {
   "cell_type": "code",
   "execution_count": 15,
   "id": "42811395",
   "metadata": {},
   "outputs": [],
   "source": [
    "v_vert_np = np.array([[1], [2]])"
   ]
  },
  {
   "cell_type": "code",
   "execution_count": 16,
   "id": "ea64b5ab",
   "metadata": {},
   "outputs": [
    {
     "data": {
      "text/plain": [
       "array([[1],\n",
       "       [2]])"
      ]
     },
     "execution_count": 16,
     "metadata": {},
     "output_type": "execute_result"
    }
   ],
   "source": [
    "v_vert_np"
   ]
  },
  {
   "cell_type": "code",
   "execution_count": 17,
   "id": "2e6cd87d",
   "metadata": {},
   "outputs": [],
   "source": [
    "v_vert_zeros = np.zeros((5, 1))"
   ]
  },
  {
   "cell_type": "code",
   "execution_count": 18,
   "id": "2be098f9",
   "metadata": {},
   "outputs": [
    {
     "data": {
      "text/plain": [
       "array([[0.],\n",
       "       [0.],\n",
       "       [0.],\n",
       "       [0.],\n",
       "       [0.]])"
      ]
     },
     "execution_count": 18,
     "metadata": {},
     "output_type": "execute_result"
    }
   ],
   "source": [
    "v_vert_zeros"
   ]
  },
  {
   "cell_type": "code",
   "execution_count": 19,
   "id": "13c112e0",
   "metadata": {},
   "outputs": [],
   "source": [
    "v_vert_ones = np.ones((5, 1))"
   ]
  },
  {
   "cell_type": "code",
   "execution_count": 20,
   "id": "5098813e",
   "metadata": {},
   "outputs": [
    {
     "data": {
      "text/plain": [
       "array([[1.],\n",
       "       [1.],\n",
       "       [1.],\n",
       "       [1.],\n",
       "       [1.]])"
      ]
     },
     "execution_count": 20,
     "metadata": {},
     "output_type": "execute_result"
    }
   ],
   "source": [
    "v_vert_ones"
   ]
  },
  {
   "cell_type": "code",
   "execution_count": 21,
   "id": "50a5fc2d",
   "metadata": {},
   "outputs": [],
   "source": [
    "m_sqr_arr = np.array([[1, 2, 3], [4, 5, 6], [7, 8, 9]])"
   ]
  },
  {
   "cell_type": "code",
   "execution_count": 22,
   "id": "4cc59190",
   "metadata": {},
   "outputs": [
    {
     "data": {
      "text/plain": [
       "array([[1, 2, 3],\n",
       "       [4, 5, 6],\n",
       "       [7, 8, 9]])"
      ]
     },
     "execution_count": 22,
     "metadata": {},
     "output_type": "execute_result"
    }
   ],
   "source": [
    "m_sqr_arr"
   ]
  },
  {
   "cell_type": "code",
   "execution_count": 23,
   "id": "b8050c20",
   "metadata": {},
   "outputs": [],
   "source": [
    "m_sqr_mx = np.matrix([[1, 2, 3], [4, 5, 6], [7, 8, 9]])"
   ]
  },
  {
   "cell_type": "code",
   "execution_count": 24,
   "id": "416e892d",
   "metadata": {},
   "outputs": [
    {
     "data": {
      "text/plain": [
       "matrix([[1, 2, 3],\n",
       "        [4, 5, 6],\n",
       "        [7, 8, 9]])"
      ]
     },
     "execution_count": 24,
     "metadata": {},
     "output_type": "execute_result"
    }
   ],
   "source": [
    "m_sqr_mx"
   ]
  },
  {
   "cell_type": "code",
   "execution_count": 25,
   "id": "d8044175",
   "metadata": {},
   "outputs": [
    {
     "data": {
      "text/plain": [
       "matrix([[1, 2, 3],\n",
       "        [4, 5, 6],\n",
       "        [7, 8, 9]])"
      ]
     },
     "execution_count": 25,
     "metadata": {},
     "output_type": "execute_result"
    }
   ],
   "source": [
    "np.matrix(\"1 2 3; 4 5 6; 7 8 9\")"
   ]
  },
  {
   "cell_type": "code",
   "execution_count": 26,
   "id": "5be78218",
   "metadata": {},
   "outputs": [],
   "source": [
    "m_sqr_mx = np.matrix('1 2 3; 4 5 6; 7 8 9')"
   ]
  },
  {
   "cell_type": "code",
   "execution_count": 27,
   "id": "49742812",
   "metadata": {},
   "outputs": [],
   "source": [
    "diag = np.diag(m_sqr_mx)"
   ]
  },
  {
   "cell_type": "code",
   "execution_count": 28,
   "id": "4cfa5814",
   "metadata": {},
   "outputs": [
    {
     "data": {
      "text/plain": [
       "array([1, 5, 9])"
      ]
     },
     "execution_count": 28,
     "metadata": {},
     "output_type": "execute_result"
    }
   ],
   "source": [
    "diag"
   ]
  },
  {
   "cell_type": "code",
   "execution_count": 29,
   "id": "055d0eef",
   "metadata": {},
   "outputs": [],
   "source": [
    "m_diag_np = np.diag(diag)"
   ]
  },
  {
   "cell_type": "code",
   "execution_count": 30,
   "id": "1871368d",
   "metadata": {},
   "outputs": [
    {
     "data": {
      "text/plain": [
       "array([[1, 0, 0],\n",
       "       [0, 5, 0],\n",
       "       [0, 0, 9]])"
      ]
     },
     "execution_count": 30,
     "metadata": {},
     "output_type": "execute_result"
    }
   ],
   "source": [
    "m_diag_np"
   ]
  },
  {
   "cell_type": "code",
   "execution_count": 31,
   "id": "9d69d985",
   "metadata": {},
   "outputs": [],
   "source": [
    "m_eye = np.eye(3)"
   ]
  },
  {
   "cell_type": "code",
   "execution_count": 32,
   "id": "3c11c8a2",
   "metadata": {},
   "outputs": [
    {
     "data": {
      "text/plain": [
       "array([[1., 0., 0.],\n",
       "       [0., 1., 0.],\n",
       "       [0., 0., 1.]])"
      ]
     },
     "execution_count": 32,
     "metadata": {},
     "output_type": "execute_result"
    }
   ],
   "source": [
    "m_eye"
   ]
  },
  {
   "cell_type": "code",
   "execution_count": 33,
   "id": "3f9708ea",
   "metadata": {},
   "outputs": [
    {
     "data": {
      "text/plain": [
       "array([[1., 0., 0.],\n",
       "       [0., 1., 0.],\n",
       "       [0., 0., 1.]])"
      ]
     },
     "execution_count": 33,
     "metadata": {},
     "output_type": "execute_result"
    }
   ],
   "source": [
    "np.identity(3)"
   ]
  },
  {
   "cell_type": "code",
   "execution_count": 34,
   "id": "5aa41bb8",
   "metadata": {},
   "outputs": [],
   "source": [
    "A = np.matrix(\"1 2 3; 4 5 6\")"
   ]
  },
  {
   "cell_type": "code",
   "execution_count": 35,
   "id": "d6022cc1",
   "metadata": {},
   "outputs": [],
   "source": [
    "A_t = A.transpose()"
   ]
  },
  {
   "cell_type": "code",
   "execution_count": 36,
   "id": "c5b322e0",
   "metadata": {},
   "outputs": [
    {
     "data": {
      "text/plain": [
       "matrix([[1, 2, 3],\n",
       "        [4, 5, 6]])"
      ]
     },
     "execution_count": 36,
     "metadata": {},
     "output_type": "execute_result"
    }
   ],
   "source": [
    "A"
   ]
  },
  {
   "cell_type": "code",
   "execution_count": 37,
   "id": "55fff2c9",
   "metadata": {},
   "outputs": [
    {
     "data": {
      "text/plain": [
       "matrix([[1, 4],\n",
       "        [2, 5],\n",
       "        [3, 6]])"
      ]
     },
     "execution_count": 37,
     "metadata": {},
     "output_type": "execute_result"
    }
   ],
   "source": [
    "A_t"
   ]
  },
  {
   "cell_type": "code",
   "execution_count": 38,
   "id": "70e982aa",
   "metadata": {},
   "outputs": [
    {
     "data": {
      "text/plain": [
       "matrix([[1, 4],\n",
       "        [2, 5],\n",
       "        [3, 6]])"
      ]
     },
     "execution_count": 38,
     "metadata": {},
     "output_type": "execute_result"
    }
   ],
   "source": [
    "A.T"
   ]
  },
  {
   "cell_type": "code",
   "execution_count": 39,
   "id": "b77f8dbf",
   "metadata": {},
   "outputs": [
    {
     "data": {
      "text/plain": [
       "matrix([[1, 2, 3],\n",
       "        [4, 5, 6]])"
      ]
     },
     "execution_count": 39,
     "metadata": {},
     "output_type": "execute_result"
    }
   ],
   "source": [
    "A.T.T"
   ]
  },
  {
   "cell_type": "code",
   "execution_count": 40,
   "id": "a5d5a6c5",
   "metadata": {},
   "outputs": [],
   "source": [
    "A = np.matrix('1 2 3; 4 5 6')\n",
    "B = np.matrix('7 8 9; 0 7 5')"
   ]
  },
  {
   "cell_type": "code",
   "execution_count": 41,
   "id": "93e4386c",
   "metadata": {},
   "outputs": [
    {
     "data": {
      "text/plain": [
       "matrix([[ 8,  4],\n",
       "        [10, 12],\n",
       "        [12, 11]])"
      ]
     },
     "execution_count": 41,
     "metadata": {},
     "output_type": "execute_result"
    }
   ],
   "source": [
    "L = (A + B).T\n",
    "L"
   ]
  },
  {
   "cell_type": "code",
   "execution_count": 43,
   "id": "eaa5294d",
   "metadata": {},
   "outputs": [
    {
     "data": {
      "text/plain": [
       "matrix([[ 8,  4],\n",
       "        [10, 12],\n",
       "        [12, 11]])"
      ]
     },
     "execution_count": 43,
     "metadata": {},
     "output_type": "execute_result"
    }
   ],
   "source": [
    "R = A.T + B.T\n",
    "R"
   ]
  },
  {
   "cell_type": "code",
   "execution_count": 44,
   "id": "a9b3b531",
   "metadata": {},
   "outputs": [],
   "source": [
    "A = np.matrix('1 2; 3 4')\n",
    "B = np.matrix('5 6; 7 8')"
   ]
  },
  {
   "cell_type": "markdown",
   "id": "294be6fc",
   "metadata": {},
   "source": [
    "В данном примере, для умножения матриц, использовалась функция *dot()* из библиотеки\n",
    "Numpy."
   ]
  },
  {
   "cell_type": "code",
   "execution_count": 48,
   "id": "5338d149",
   "metadata": {},
   "outputs": [
    {
     "data": {
      "text/plain": [
       "matrix([[19, 43],\n",
       "        [22, 50]])"
      ]
     },
     "execution_count": 48,
     "metadata": {},
     "output_type": "execute_result"
    }
   ],
   "source": [
    "L = A.dot(B).T\n",
    "L"
   ]
  },
  {
   "cell_type": "code",
   "execution_count": 50,
   "id": "e32e0274",
   "metadata": {},
   "outputs": [
    {
     "data": {
      "text/plain": [
       "matrix([[19, 43],\n",
       "        [22, 50]])"
      ]
     },
     "execution_count": 50,
     "metadata": {},
     "output_type": "execute_result"
    }
   ],
   "source": [
    "R = B.T.dot(A.T)\n",
    "R"
   ]
  },
  {
   "cell_type": "code",
   "execution_count": 51,
   "id": "6b291558",
   "metadata": {},
   "outputs": [],
   "source": [
    "A = np.matrix('1 2 3; 4 5 6')\n",
    "k = 3"
   ]
  },
  {
   "cell_type": "code",
   "execution_count": 52,
   "id": "0b659982",
   "metadata": {},
   "outputs": [
    {
     "data": {
      "text/plain": [
       "matrix([[ 3, 12],\n",
       "        [ 6, 15],\n",
       "        [ 9, 18]])"
      ]
     },
     "execution_count": 52,
     "metadata": {},
     "output_type": "execute_result"
    }
   ],
   "source": [
    "L = (k * A).T\n",
    "L"
   ]
  },
  {
   "cell_type": "code",
   "execution_count": 53,
   "id": "06b6eebc",
   "metadata": {},
   "outputs": [
    {
     "data": {
      "text/plain": [
       "matrix([[ 3, 12],\n",
       "        [ 6, 15],\n",
       "        [ 9, 18]])"
      ]
     },
     "execution_count": 53,
     "metadata": {},
     "output_type": "execute_result"
    }
   ],
   "source": [
    "R = k * A.T\n",
    "R"
   ]
  },
  {
   "cell_type": "code",
   "execution_count": 54,
   "id": "b2af067a",
   "metadata": {},
   "outputs": [],
   "source": [
    "A = np.matrix('1 2; 3 4')"
   ]
  },
  {
   "cell_type": "code",
   "execution_count": 57,
   "id": "c8ca5aed",
   "metadata": {},
   "outputs": [
    {
     "data": {
      "text/plain": [
       "'-2'"
      ]
     },
     "execution_count": 57,
     "metadata": {},
     "output_type": "execute_result"
    }
   ],
   "source": [
    "A_det = np.linalg.det(A)\n",
    "format(A_det, '.9g')"
   ]
  },
  {
   "cell_type": "code",
   "execution_count": 58,
   "id": "08fb4b6c",
   "metadata": {},
   "outputs": [
    {
     "data": {
      "text/plain": [
       "'-2'"
      ]
     },
     "execution_count": 58,
     "metadata": {},
     "output_type": "execute_result"
    }
   ],
   "source": [
    "A_T_det = np.linalg.det(A.T)\n",
    "format(A_T_det, '.9g')"
   ]
  },
  {
   "cell_type": "code",
   "execution_count": 59,
   "id": "bfccaff3",
   "metadata": {},
   "outputs": [
    {
     "data": {
      "text/plain": [
       "matrix([[1, 2, 3],\n",
       "        [4, 5, 6]])"
      ]
     },
     "execution_count": 59,
     "metadata": {},
     "output_type": "execute_result"
    }
   ],
   "source": [
    "A = np.matrix(\"1 2 3; 4 5 6\")\n",
    "A"
   ]
  },
  {
   "cell_type": "code",
   "execution_count": 60,
   "id": "0bbcbcfe",
   "metadata": {},
   "outputs": [
    {
     "data": {
      "text/plain": [
       "matrix([[ 3,  6,  9],\n",
       "        [12, 15, 18]])"
      ]
     },
     "execution_count": 60,
     "metadata": {},
     "output_type": "execute_result"
    }
   ],
   "source": [
    "C = 3 * A\n",
    "C"
   ]
  },
  {
   "cell_type": "code",
   "execution_count": 61,
   "id": "de325930",
   "metadata": {},
   "outputs": [
    {
     "data": {
      "text/plain": [
       "matrix([[1, 2],\n",
       "        [3, 4]])"
      ]
     },
     "execution_count": 61,
     "metadata": {},
     "output_type": "execute_result"
    }
   ],
   "source": [
    "A = np.matrix(\"1 2; 3 4\")\n",
    "A"
   ]
  },
  {
   "cell_type": "code",
   "execution_count": 62,
   "id": "16eb83ee",
   "metadata": {},
   "outputs": [
    {
     "data": {
      "text/plain": [
       "matrix([[1, 2],\n",
       "        [3, 4]])"
      ]
     },
     "execution_count": 62,
     "metadata": {},
     "output_type": "execute_result"
    }
   ],
   "source": [
    "A * 1"
   ]
  },
  {
   "cell_type": "code",
   "execution_count": 64,
   "id": "9aee95ae",
   "metadata": {},
   "outputs": [
    {
     "data": {
      "text/plain": [
       "matrix([[1, 2],\n",
       "        [3, 4]])"
      ]
     },
     "execution_count": 64,
     "metadata": {},
     "output_type": "execute_result"
    }
   ],
   "source": [
    "A = np.matrix(\"1 2; 3 4\")\n",
    "A"
   ]
  },
  {
   "cell_type": "code",
   "execution_count": 65,
   "id": "c63489b7",
   "metadata": {},
   "outputs": [
    {
     "data": {
      "text/plain": [
       "matrix([[0, 0],\n",
       "        [0, 0]])"
      ]
     },
     "execution_count": 65,
     "metadata": {},
     "output_type": "execute_result"
    }
   ],
   "source": [
    "Z = np.matrix(\"0 0; 0 0\")\n",
    "Z"
   ]
  },
  {
   "cell_type": "code",
   "execution_count": 66,
   "id": "0e8a11c6",
   "metadata": {},
   "outputs": [
    {
     "data": {
      "text/plain": [
       "matrix([[0, 0],\n",
       "        [0, 0]])"
      ]
     },
     "execution_count": 66,
     "metadata": {},
     "output_type": "execute_result"
    }
   ],
   "source": [
    "0 * A"
   ]
  },
  {
   "cell_type": "code",
   "execution_count": 69,
   "id": "518ff127",
   "metadata": {},
   "outputs": [],
   "source": [
    "A = np.matrix(\"1 2; 3 4\")\n",
    "p = 2\n",
    "q = 3"
   ]
  },
  {
   "cell_type": "code",
   "execution_count": 70,
   "id": "52a7f551",
   "metadata": {},
   "outputs": [
    {
     "data": {
      "text/plain": [
       "matrix([[ 5, 10],\n",
       "        [15, 20]])"
      ]
     },
     "execution_count": 70,
     "metadata": {},
     "output_type": "execute_result"
    }
   ],
   "source": [
    "L = (p + q) * A\n",
    "L"
   ]
  },
  {
   "cell_type": "code",
   "execution_count": 71,
   "id": "65632cff",
   "metadata": {},
   "outputs": [
    {
     "data": {
      "text/plain": [
       "matrix([[ 5, 10],\n",
       "        [15, 20]])"
      ]
     },
     "execution_count": 71,
     "metadata": {},
     "output_type": "execute_result"
    }
   ],
   "source": [
    "R = p * A + q * A\n",
    "R"
   ]
  },
  {
   "cell_type": "code",
   "execution_count": 72,
   "id": "85759bba",
   "metadata": {},
   "outputs": [],
   "source": [
    "A = np.matrix(\"1 2; 3 4\")\n",
    "p = 2\n",
    "q = 3"
   ]
  },
  {
   "cell_type": "code",
   "execution_count": 73,
   "id": "84b437ec",
   "metadata": {},
   "outputs": [
    {
     "data": {
      "text/plain": [
       "matrix([[ 6, 12],\n",
       "        [18, 24]])"
      ]
     },
     "execution_count": 73,
     "metadata": {},
     "output_type": "execute_result"
    }
   ],
   "source": [
    "L = (p * q) * A\n",
    "L"
   ]
  },
  {
   "cell_type": "code",
   "execution_count": 75,
   "id": "b475905c",
   "metadata": {},
   "outputs": [
    {
     "data": {
      "text/plain": [
       "matrix([[ 6, 12],\n",
       "        [18, 24]])"
      ]
     },
     "execution_count": 75,
     "metadata": {},
     "output_type": "execute_result"
    }
   ],
   "source": [
    "R = p * (q * A)\n",
    "R"
   ]
  },
  {
   "cell_type": "code",
   "execution_count": 76,
   "id": "4fca8b3b",
   "metadata": {},
   "outputs": [],
   "source": [
    "A = np.matrix('1 2; 3 4')\n",
    "B = np.matrix('5 6; 7 8')\n",
    "k = 3"
   ]
  },
  {
   "cell_type": "code",
   "execution_count": 77,
   "id": "eeb7c166",
   "metadata": {},
   "outputs": [
    {
     "data": {
      "text/plain": [
       "matrix([[18, 24],\n",
       "        [30, 36]])"
      ]
     },
     "execution_count": 77,
     "metadata": {},
     "output_type": "execute_result"
    }
   ],
   "source": [
    "L = k * (A + B)\n",
    "L"
   ]
  },
  {
   "cell_type": "code",
   "execution_count": 78,
   "id": "58f94e4a",
   "metadata": {},
   "outputs": [
    {
     "data": {
      "text/plain": [
       "matrix([[18, 24],\n",
       "        [30, 36]])"
      ]
     },
     "execution_count": 78,
     "metadata": {},
     "output_type": "execute_result"
    }
   ],
   "source": [
    "R = k * A + k * B\n",
    "R"
   ]
  },
  {
   "cell_type": "code",
   "execution_count": 79,
   "id": "15e782ae",
   "metadata": {},
   "outputs": [],
   "source": [
    "A = np.matrix('1 6 3; 8 2 7')\n",
    "B = np.matrix('8 1 5; 6 9 12')"
   ]
  },
  {
   "cell_type": "code",
   "execution_count": 80,
   "id": "725a3535",
   "metadata": {},
   "outputs": [
    {
     "data": {
      "text/plain": [
       "matrix([[ 9,  7,  8],\n",
       "        [14, 11, 19]])"
      ]
     },
     "execution_count": 80,
     "metadata": {},
     "output_type": "execute_result"
    }
   ],
   "source": [
    "C = A + B\n",
    "C"
   ]
  },
  {
   "cell_type": "code",
   "execution_count": 81,
   "id": "0339cfa7",
   "metadata": {},
   "outputs": [],
   "source": [
    "A = np.matrix('1 2; 3 4')\n",
    "B = np.matrix('5 6; 7 8')"
   ]
  },
  {
   "cell_type": "code",
   "execution_count": 82,
   "id": "d440ce2d",
   "metadata": {},
   "outputs": [
    {
     "data": {
      "text/plain": [
       "matrix([[ 6,  8],\n",
       "        [10, 12]])"
      ]
     },
     "execution_count": 82,
     "metadata": {},
     "output_type": "execute_result"
    }
   ],
   "source": [
    "A + B"
   ]
  },
  {
   "cell_type": "code",
   "execution_count": 83,
   "id": "4b828ddd",
   "metadata": {},
   "outputs": [
    {
     "data": {
      "text/plain": [
       "matrix([[ 6,  8],\n",
       "        [10, 12]])"
      ]
     },
     "execution_count": 83,
     "metadata": {},
     "output_type": "execute_result"
    }
   ],
   "source": [
    "B + A"
   ]
  },
  {
   "cell_type": "code",
   "execution_count": 84,
   "id": "cd3f272b",
   "metadata": {},
   "outputs": [],
   "source": [
    "A = np.matrix('1 2; 3 4')\n",
    "B = np.matrix('5 6; 7 8')\n",
    "C = np.matrix('1 7; 9 3')"
   ]
  },
  {
   "cell_type": "code",
   "execution_count": 85,
   "id": "d062a609",
   "metadata": {},
   "outputs": [
    {
     "data": {
      "text/plain": [
       "matrix([[ 7, 15],\n",
       "        [19, 15]])"
      ]
     },
     "execution_count": 85,
     "metadata": {},
     "output_type": "execute_result"
    }
   ],
   "source": [
    "A + (B + C)"
   ]
  },
  {
   "cell_type": "code",
   "execution_count": 86,
   "id": "eb71ae26",
   "metadata": {},
   "outputs": [
    {
     "data": {
      "text/plain": [
       "matrix([[ 7, 15],\n",
       "        [19, 15]])"
      ]
     },
     "execution_count": 86,
     "metadata": {},
     "output_type": "execute_result"
    }
   ],
   "source": [
    "(A + B) + C"
   ]
  },
  {
   "cell_type": "code",
   "execution_count": 87,
   "id": "19785253",
   "metadata": {},
   "outputs": [],
   "source": [
    "A = np.matrix(\"1 2; 3 4\")"
   ]
  },
  {
   "cell_type": "code",
   "execution_count": 89,
   "id": "f42f8330",
   "metadata": {},
   "outputs": [
    {
     "data": {
      "text/plain": [
       "matrix([[0, 0],\n",
       "        [0, 0]])"
      ]
     },
     "execution_count": 89,
     "metadata": {},
     "output_type": "execute_result"
    }
   ],
   "source": [
    "A + -A"
   ]
  },
  {
   "cell_type": "code",
   "execution_count": 90,
   "id": "00736c10",
   "metadata": {},
   "outputs": [],
   "source": [
    "A = np.matrix('1 2 3; 4 5 6')\n",
    "B = np.matrix('7 8; 9 1; 2 3')"
   ]
  },
  {
   "cell_type": "code",
   "execution_count": 91,
   "id": "93893cea",
   "metadata": {},
   "outputs": [
    {
     "data": {
      "text/plain": [
       "matrix([[31, 19],\n",
       "        [85, 55]])"
      ]
     },
     "execution_count": 91,
     "metadata": {},
     "output_type": "execute_result"
    }
   ],
   "source": [
    "A.dot(B)"
   ]
  },
  {
   "cell_type": "code",
   "execution_count": 92,
   "id": "0555fd1a",
   "metadata": {},
   "outputs": [],
   "source": [
    "A = np.matrix('1 2; 3 4')\n",
    "B = np.matrix('5 6; 7 8')\n",
    "C = np.matrix('2 4; 7 8')"
   ]
  },
  {
   "cell_type": "code",
   "execution_count": 93,
   "id": "8cd67470",
   "metadata": {},
   "outputs": [
    {
     "data": {
      "text/plain": [
       "matrix([[35, 42],\n",
       "        [77, 94]])"
      ]
     },
     "execution_count": 93,
     "metadata": {},
     "output_type": "execute_result"
    }
   ],
   "source": [
    "A.dot(B + C)"
   ]
  },
  {
   "cell_type": "code",
   "execution_count": 94,
   "id": "b46a81b4",
   "metadata": {},
   "outputs": [
    {
     "data": {
      "text/plain": [
       "matrix([[35, 42],\n",
       "        [77, 94]])"
      ]
     },
     "execution_count": 94,
     "metadata": {},
     "output_type": "execute_result"
    }
   ],
   "source": [
    "A.dot(B) + A.dot(C)"
   ]
  },
  {
   "cell_type": "code",
   "execution_count": 95,
   "id": "4a502092",
   "metadata": {},
   "outputs": [
    {
     "data": {
      "text/plain": [
       "matrix([[19, 22],\n",
       "        [43, 50]])"
      ]
     },
     "execution_count": 95,
     "metadata": {},
     "output_type": "execute_result"
    }
   ],
   "source": [
    "A.dot(B)"
   ]
  },
  {
   "cell_type": "code",
   "execution_count": 96,
   "id": "55cf2279",
   "metadata": {},
   "outputs": [
    {
     "data": {
      "text/plain": [
       "matrix([[23, 34],\n",
       "        [31, 46]])"
      ]
     },
     "execution_count": 96,
     "metadata": {},
     "output_type": "execute_result"
    }
   ],
   "source": [
    "B.dot(A)"
   ]
  },
  {
   "cell_type": "code",
   "execution_count": 98,
   "id": "b541bc07",
   "metadata": {},
   "outputs": [
    {
     "data": {
      "text/plain": [
       "array([[1., 1.],\n",
       "       [1., 1.]])"
      ]
     },
     "execution_count": 98,
     "metadata": {},
     "output_type": "execute_result"
    }
   ],
   "source": [
    "E = np.ones((2, 2))\n",
    "E"
   ]
  },
  {
   "cell_type": "code",
   "execution_count": 108,
   "id": "1aa79c3d",
   "metadata": {},
   "outputs": [
    {
     "data": {
      "text/plain": [
       "array([[1., 0.],\n",
       "       [0., 1.]])"
      ]
     },
     "execution_count": 108,
     "metadata": {},
     "output_type": "execute_result"
    }
   ],
   "source": [
    "E = np.diag(np.ones(2))\n",
    "E"
   ]
  },
  {
   "cell_type": "code",
   "execution_count": 109,
   "id": "aeb9db5e",
   "metadata": {},
   "outputs": [
    {
     "data": {
      "text/plain": [
       "matrix([[1., 2.],\n",
       "        [3., 4.]])"
      ]
     },
     "execution_count": 109,
     "metadata": {},
     "output_type": "execute_result"
    }
   ],
   "source": [
    "A.dot(E)"
   ]
  },
  {
   "cell_type": "code",
   "execution_count": 110,
   "id": "0fcb1f54",
   "metadata": {},
   "outputs": [
    {
     "data": {
      "text/plain": [
       "matrix([[1., 2.],\n",
       "        [3., 4.]])"
      ]
     },
     "execution_count": 110,
     "metadata": {},
     "output_type": "execute_result"
    }
   ],
   "source": [
    "E.dot(A)"
   ]
  },
  {
   "cell_type": "code",
   "execution_count": null,
   "id": "710294c0",
   "metadata": {},
   "outputs": [],
   "source": []
  }
 ],
 "metadata": {
  "kernelspec": {
   "display_name": "Python 3 (ipykernel)",
   "language": "python",
   "name": "python3"
  },
  "language_info": {
   "codemirror_mode": {
    "name": "ipython",
    "version": 3
   },
   "file_extension": ".py",
   "mimetype": "text/x-python",
   "name": "python",
   "nbconvert_exporter": "python",
   "pygments_lexer": "ipython3",
   "version": "3.9.13"
  }
 },
 "nbformat": 4,
 "nbformat_minor": 5
}
